{
  "nbformat": 4,
  "nbformat_minor": 0,
  "metadata": {
    "colab": {
      "provenance": [],
      "authorship_tag": "ABX9TyNTVBB8SSeuqXLYtZ/jjNSm"
    },
    "kernelspec": {
      "name": "python3",
      "display_name": "Python 3"
    },
    "language_info": {
      "name": "python"
    }
  },
  "cells": [
    {
      "cell_type": "markdown",
      "source": [
        "[데코레이터]\n",
        "\n",
        "- @으로 시작하는 구문을 데코레이터라고 함\n",
        "- 데코레이터는 만드는 방법에 따라 함수 데코레이터와 클래스 데코레이터로 나눌 수 있음"
      ],
      "metadata": {
        "id": "5wZ1CjdotATu"
      }
    },
    {
      "cell_type": "markdown",
      "source": [
        "[함수 데코레이터]\n",
        "\n",
        "함수에 사용되는 데코레이터는 함수 앞뒤에 붙일 내용이나 반복할 내용이 있을때 사용합니다."
      ],
      "metadata": {
        "id": "2ShT3pSetCEW"
      }
    },
    {
      "cell_type": "code",
      "source": [
        "def oz():\n",
        "    print(\"파이썬은 내게 훌륭한 거름이다\")\n",
        "\n",
        "oz()"
      ],
      "metadata": {
        "colab": {
          "base_uri": "https://localhost:8080/"
        },
        "id": "GbU8qgbUtDRv",
        "outputId": "230bf300-6db7-4937-e8fa-6f8e6db2819a"
      },
      "execution_count": 1,
      "outputs": [
        {
          "output_type": "stream",
          "name": "stdout",
          "text": [
            "파이썬은 내게 훌륭한 거름이다\n"
          ]
        }
      ]
    },
    {
      "cell_type": "code",
      "source": [
        "def test(function):\n",
        "    def wrapper():\n",
        "        print(\"등에 날개가 돋혔습니다.\")\n",
        "        function()\n",
        "        print(\"하늘로 가게 되었습니다.\")\n",
        "    return wrapper\n",
        "\n",
        "@test\n",
        "def oz():\n",
        "    print(\"당신은 천사가 되었습니다\")\n",
        "\n",
        "oz()"
      ],
      "metadata": {
        "colab": {
          "base_uri": "https://localhost:8080/"
        },
        "id": "kJJ9rBPBtcnX",
        "outputId": "3bb06785-29d2-4528-cb31-c08f1087c89b"
      },
      "execution_count": 3,
      "outputs": [
        {
          "output_type": "stream",
          "name": "stdout",
          "text": [
            "등에 날개가 돋혔습니다.\n",
            "당신은 천사가 되었습니다\n",
            "하늘로 가게 되었습니다.\n"
          ]
        }
      ]
    }
  ]
}