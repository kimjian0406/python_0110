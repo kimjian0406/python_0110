{
  "nbformat": 4,
  "nbformat_minor": 0,
  "metadata": {
    "colab": {
      "provenance": [],
      "authorship_tag": "ABX9TyNcpdq96NElIBIbelbQW4Sy"
    },
    "kernelspec": {
      "name": "python3",
      "display_name": "Python 3"
    },
    "language_info": {
      "name": "python"
    }
  },
  "cells": [
    {
      "cell_type": "markdown",
      "source": [
        "animals라는 패키지를 만들고, 이 패키지 내에 mammals, birds라는 두 개의 서브 모듈을 생성하세요.\n",
        "\n",
        "- 각 모듈에는 최소한 한 개 이상의 동물에 관한 클래스를 정의하세요<br>\n",
        "  (예: mammals에는 cat, animals에는 fox)\n",
        "- 이 패키지와 모듈을 사용하여 동물들의 정보를 출력하는 프로그램을 작성\n",
        "\n",
        "폴더 및 파일 구조\n",
        "```\n",
        "animals/(폴더)\n",
        "├── __init__.py\n",
        "├── mammals.py\n",
        "└── animals.py\n",
        "```\n"
      ],
      "metadata": {
        "id": "5UGhyBqDDKb7"
      }
    },
    {
      "cell_type": "code",
      "source": [
        "#mammals.py\n",
        "\n",
        "def speak(self):\n",
        "    return \"냐옹!\"\n",
        "\n",
        "def __str__(self):\n",
        "    return \"cat\""
      ],
      "metadata": {
        "id": "IOZD9QezDWao"
      },
      "execution_count": 1,
      "outputs": []
    },
    {
      "cell_type": "code",
      "source": [
        "#animals.py\n",
        "def speak(self):\n",
        "    return \"꺄울!\"\n",
        "\n",
        "def __str__(self):\n",
        "    return \"fox\""
      ],
      "metadata": {
        "id": "o3TwMEpFDhN7"
      },
      "execution_count": null,
      "outputs": []
    },
    {
      "cell_type": "code",
      "source": [
        "#실행 프로그램\n",
        "from animals.mammals import cat\n",
        "from animals.animals import fox\n",
        "\n",
        "cat = cat ()\n",
        "print"
      ],
      "metadata": {
        "id": "Mkn02zikDzJ1"
      },
      "execution_count": null,
      "outputs": []
    }
  ]
}