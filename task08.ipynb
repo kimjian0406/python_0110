{
  "nbformat": 4,
  "nbformat_minor": 0,
  "metadata": {
    "colab": {
      "provenance": [],
      "authorship_tag": "ABX9TyMC1aUWbUPAt16VWUAtiQ1Q"
    },
    "kernelspec": {
      "name": "python3",
      "display_name": "Python 3"
    },
    "language_info": {
      "name": "python"
    }
  },
  "cells": [
    {
      "cell_type": "markdown",
      "source": [
        "[모듈 만들기]\n",
        "\n",
        "모듈 : 함수의 집합\n",
        "\n",
        "같은 폴더 안에 2개의 파일을 만들겠습니다.\n",
        "- 모듈이 될 파일 : oz_module.py\n",
        "- 모듈을 불러와 실행할 파일 : oz.py"
      ],
      "metadata": {
        "id": "8q0iqxlrvkA1"
      }
    },
    {
      "cell_type": "code",
      "source": [
        "# oz_module.py\n",
        "\n",
        "# 원주율 값\n",
        "pi = 3.141592\n",
        "\n",
        "# 반지름 값을 입력받는 함수\n",
        "def number_input():\n",
        "    \"\"\"사용자로부터 반지름 값을 입력받아 실수로 반환합니다.\"\"\"\n",
        "    value = input(\"반지름을 입력해주세요: \")\n",
        "    return float(value)\n",
        "\n",
        "# 원의 둘레를 계산하는 함수\n",
        "def get_circum(radius):\n",
        "    \"\"\"반지름을 받아 원의 둘레를 반환합니다.\"\"\"\n",
        "    return 2 * pi * radius\n",
        "\n",
        "# 원의 넓이를 계산하는 함수\n",
        "def get_circle(radius):\n",
        "    \"\"\"반지름을 받아 원의 넓이를 반환합니다.\"\"\"\n",
        "    return pi * radius * radius\n"
      ],
      "metadata": {
        "id": "EtBNpxXevqdZ"
      },
      "execution_count": 14,
      "outputs": []
    }
  ]
}