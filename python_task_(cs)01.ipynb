{
  "nbformat": 4,
  "nbformat_minor": 0,
  "metadata": {
    "colab": {
      "provenance": [],
      "authorship_tag": "ABX9TyOCwKlp0xX2x+dPAaNconef"
    },
    "kernelspec": {
      "name": "python3",
      "display_name": "Python 3"
    },
    "language_info": {
      "name": "python"
    }
  },
  "cells": [
    {
      "cell_type": "markdown",
      "source": [
        "### [목표]\n",
        "\n",
        "플레이어는 지도 상에서 보물을 찾아야 합니다. 지도는 그리드로 구성되며, 플레이어는 매 턴마다 이동하여 보물의 위치를 찾아야 합니다. 보물의 위치는 무작위로 설정됩니다.\n",
        "\n",
        "### [게임 설명]\n",
        "\n",
        "1. 게임 시작 시, 프로그램은 N x N 크기의 그리드를 생성하고, 그리드 내에 무작위 위치에 보물을 배치합니다.\n",
        "2. 플레이어는 그리드 내의 특정 위치에서 시작합니다. 초기 위치도 무작위로 결정됩니다.\n",
        "3. 플레이어는 북(N), 남(S), 동(E), 서(W) 중 하나의 방향으로 한 칸 이동할 수 있습니다.\n",
        "4. 이동 후, 플레이어는 보물까지의 대략적인 거리를 알 수 있습니다. 정확한 위치는 알 수 없습니다.\n",
        "5. 플레이어가 보물 위치에 도달하면 게임이 종료되고, 이동 횟수가 공개됩니다."
      ],
      "metadata": {
        "id": "nMWeFnCSFIoV"
      }
    },
    {
      "cell_type": "code",
      "source": [
        "import random\n",
        "\n",
        "# 맨해튼 거리 계산\n",
        "def calculate_distance(player, treasure):\n",
        "    return abs(player[0] - treasure[0]) + abs(player[1] - treasure[1])\n",
        "\n",
        "# 게임 초기화\n",
        "def initialize_game(N):\n",
        "    grid = [[' ' for _ in range(N)] for _ in range(N)]\n",
        "    treasure = (random.randint(0, N-1), random.randint(0, N-1))\n",
        "    player = (random.randint(0, N-1), random.randint(0, N-1))\n",
        "    return grid, treasure, player\n",
        "\n",
        "# 방향 설정\n",
        "def move_player(player, direction):\n",
        "    if direction == 'N':\n",
        "        return (player[0] - 1, player[1])\n",
        "    elif direction == 'S':\n",
        "        return (player[0] + 1, player[1])\n",
        "    elif direction == 'E':\n",
        "        return (player[0], player[1] + 1)\n",
        "    elif direction == 'W':\n",
        "        return (player[0], player[1] - 1)\n",
        "    return player\n",
        "\n",
        "# 게임 실행\n",
        "def play_game(N):\n",
        "    grid, treasure, player = initialize_game(N)\n",
        "    move_count = 0\n",
        "\n",
        "    while player != treasure:\n",
        "        print(f\"현재 위치: {player}\")\n",
        "        print(f\"보물까지의 대략적인 거리: {calculate_distance(player, treasure)}\")\n",
        "\n",
        "        # 방향 입력 받기\n",
        "        direction = input(\"이동 방향 (N, S, E, W): \").upper()\n",
        "        if direction in ['N', 'S', 'E', 'W']:\n",
        "            player = move_player(player, direction)\n",
        "            move_count += 1\n",
        "        else:\n",
        "            print(\"잘못된 방향입니다. 다시 입력하세요.\")\n",
        "\n",
        "    print(f\"축하합니다! 보물을 찾았습니다. 총 이동 횟수: {move_count}\")\n",
        "\n",
        "# 게임 시작\n",
        "play_game(5)\n"
      ],
      "metadata": {
        "id": "kZmJHFysFwhz"
      },
      "execution_count": null,
      "outputs": []
    },
    {
      "cell_type": "markdown",
      "source": [
        "### [기능 요구 사항]\n",
        "\n",
        "- **그리드 생성**: N x N 크기의 게임 보드를 생성합니다.\n",
        "- **보물 및 플레이어 위치 초기화**: 보물과 플레이어의 위치를 무작위로 설정합니다.\n",
        "- **이동 명령 수행**: 플레이어로부터 이동 명령을 입력받아 수행합니다.\n",
        "- **거리 힌트 제공**: 플레이어에게 현재 위치에서 보물까지의 거리에 대한 힌트를 제공합니다.\n",
        "- **게임 종료 조건 확인**: 플레이어가 보물을 찾으면 게임을 종료합니다."
      ],
      "metadata": {
        "id": "qTBI14RDFy-S"
      }
    },
    {
      "cell_type": "code",
      "source": [
        "import random\n",
        "\n",
        "# 1. 그리드 생성 및 초기화\n",
        "def initialize_game(N):\n",
        "    # N x N 크기의 그리드를 만들고, 보물과 플레이어의 위치를 무작위로 설정\n",
        "    grid = [[' ' for _ in range(N)] for _ in range(N)]\n",
        "    treasure = (random.randint(0, N-1), random.randint(0, N-1))  # 보물의 위치\n",
        "    player = (random.randint(0, N-1), random.randint(0, N-1))  # 플레이어의 위치\n",
        "    return grid, treasure, player\n",
        "\n",
        "# 2. 맨해튼 거리 계산 (보물까지의 대략적인 거리)\n",
        "def calculate_distance(player, treasure):\n",
        "    return abs(player[0] - treasure[0]) + abs(player[1] - treasure[1])\n",
        "\n",
        "# 3. 이동 명령 수행\n",
        "def move_player(player, direction, N):\n",
        "    # 이동 후 새 위치 계산 (그리드를 벗어나지 않도록 제한)\n",
        "    if direction == 'N' and player[0] > 0:\n",
        "        player = (player[0] - 1, player[1])\n",
        "    elif direction == 'S' and player[0] < N - 1:\n",
        "        player = (player[0] + 1, player[1])\n",
        "    elif direction == 'E' and player[1] < N - 1:\n",
        "        player = (player[0], player[1] + 1)\n",
        "    elif direction == 'W' and player[1] > 0:\n",
        "        player = (player[0], player[1] - 1)\n",
        "    return player\n",
        "\n",
        "# 4. 게임 실행\n",
        "def play_game(N):\n",
        "    grid, treasure, player = initialize_game(N)\n",
        "    move_count = 0\n",
        "\n",
        "    # 5. 게임 루프 (플레이어가 보물을 찾을 때까지 반복)\n",
        "    while player != treasure:\n",
        "        print(f\"현재 위치: {player}\")\n",
        "        print(f\"보물까지의 대략적인 거리: {calculate_distance(player, treasure)}\")\n",
        "\n",
        "        # 방향 입력 받기\n",
        "        direction = input(\"이동 방향 (N, S, E, W): \").upper()\n",
        "        if direction in ['N', 'S', 'E', 'W']:\n",
        "            player = move_player(player, direction, N)\n",
        "            move_count += 1\n",
        "        else:\n",
        "            print(\"잘못된 방향입니다. N, S, E, W 중 하나를 입력하세요.\")\n",
        "\n",
        "    # 6. 게임 종료\n",
        "    print(f\"축하합니다! 보물을 찾았습니다. 총 이동 횟수: {move_count}\")\n",
        "\n",
        "# 7. 게임 시작\n",
        "play_game(5)\n"
      ],
      "metadata": {
        "id": "g-9hFtPvF7zF"
      },
      "execution_count": null,
      "outputs": []
    },
    {
      "cell_type": "markdown",
      "source": [
        "### [개발 단계]\n",
        "\n",
        "1. **게임 환경 설정**: 필요한 변수(보드 크기, 위치 정보 등)와 게임 보드를 초기화합니다.\n",
        "2. **플레이어 입력 처리**: 플레이어로부터 이동 명령을 입력받고, 입력에 따라 플레이어의 위치를 업데이트합니다.\n",
        "3. **거리 계산 및 힌트 제공**: 현재 플레이어 위치에서 보물까지의 거리를 계산하고, 이를 기반으로 힌트를 제공합니다.\n",
        "4. **게임 종료 및 결과 출력**: 플레이어가 보물 위치에 도달하면 게임을 종료하고, 플레이어의 이동 횟수를 출력합니다."
      ],
      "metadata": {
        "id": "GV8lYCYIGBM6"
      }
    },
    {
      "cell_type": "code",
      "source": [
        "import random\n",
        "\n",
        "# 1. 게임 환경 설정\n",
        "def initialize_game(N):\n",
        "    # N x N 크기의 그리드를 만들고, 보물과 플레이어의 위치를 무작위로 설정\n",
        "    grid = [[' ' for _ in range(N)] for _ in range(N)]  # 빈 공간으로 초기화\n",
        "    treasure = (random.randint(0, N-1), random.randint(0, N-1))  # 보물 위치\n",
        "    player = (random.randint(0, N-1), random.randint(0, N-1))  # 플레이어 위치\n",
        "    return grid, treasure, player\n"
      ],
      "metadata": {
        "id": "w3eAMQ7SGKtt"
      },
      "execution_count": null,
      "outputs": []
    },
    {
      "cell_type": "code",
      "source": [
        "# 2. 플레이어 입력 처리\n",
        "def move_player(player, direction, N):\n",
        "    if direction == 'N' and player[0] > 0:\n",
        "        player = (player[0] - 1, player[1])\n",
        "    elif direction == 'S' and player[0] < N - 1:\n",
        "        player = (player[0] + 1, player[1])\n",
        "    elif direction == 'E' and player[1] < N - 1:\n",
        "        player = (player[0], player[1] + 1)\n",
        "    elif direction == 'W' and player[1] > 0:\n",
        "        player = (player[0], player[1] - 1)\n",
        "    return player\n"
      ],
      "metadata": {
        "id": "r2UgJbWeGOEC"
      },
      "execution_count": null,
      "outputs": []
    },
    {
      "cell_type": "code",
      "source": [
        "# 3. 거리 계산 및 힌트 제공\n",
        "def calculate_distance(player, treasure):\n",
        "    return abs(player[0] - treasure[0]) + abs(player[1] - treasure[1])\n"
      ],
      "metadata": {
        "id": "jmxnjdZ9GPI2"
      },
      "execution_count": null,
      "outputs": []
    },
    {
      "cell_type": "code",
      "source": [
        "# 4. 게임 종료 및 결과 출력\n",
        "def play_game(N):\n",
        "    grid, treasure, player = initialize_game(N)\n",
        "    move_count = 0\n",
        "\n",
        "    while player != treasure:\n",
        "        print(f\"현재 위치: {player}\")\n",
        "        print(f\"보물까지의 대략적인 거리: {calculate_distance(player, treasure)}\")\n",
        "\n",
        "        direction = input(\"이동 방향 (N, S, E, W): \").upper()\n",
        "        if direction in ['N', 'S', 'E', 'W']:\n",
        "            player = move_player(player, direction, N)\n",
        "            move_count += 1\n",
        "        else:\n",
        "            print(\"잘못된 방향입니다. N, S, E, W 중 하나를 입력하세요.\")\n",
        "\n",
        "    print(f\"축하합니다! 보물을 찾았습니다. 총 이동 횟수: {move_count}\")\n"
      ],
      "metadata": {
        "id": "DefqNWc4GQ_S"
      },
      "execution_count": null,
      "outputs": []
    }
  ]
}