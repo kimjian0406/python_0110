{
  "nbformat": 4,
  "nbformat_minor": 0,
  "metadata": {
    "colab": {
      "provenance": [],
      "authorship_tag": "ABX9TyNGdv0zTGFHA9t1DDbeRCJj"
    },
    "kernelspec": {
      "name": "python3",
      "display_name": "Python 3"
    },
    "language_info": {
      "name": "python"
    }
  },
  "cells": [
    {
      "cell_type": "markdown",
      "source": [
        "오류의 종류\n",
        "\n",
        "프로그램 언어의 오류에는 크게 두 가지 종류가 있습니다.\n",
        "\n",
        "- 프로그램 실행 전에 발생하는 오류를 구문 오류라고 함\n",
        "- 프로그램 실행 중에 발생하는 오류를 예외 또는 런타임 오류라고 함"
      ],
      "metadata": {
        "id": "hSntDA7IA7ev"
      }
    },
    {
      "cell_type": "markdown",
      "source": [
        "[구문오류]"
      ],
      "metadata": {
        "id": "GnHJafH-BVtN"
      }
    },
    {
      "cell_type": "code",
      "source": [
        "# SyntaxError: 닫는 괄호가 누락됨\n",
        "print(\"안녕하세요\"\n"
      ],
      "metadata": {
        "id": "cxZn_OEjBiN9"
      },
      "execution_count": null,
      "outputs": []
    },
    {
      "cell_type": "markdown",
      "source": [
        "SyntaxError : 구문에 문제가 발생해 프로그램이 실행조차 되지 않는 오류\n",
        "\n",
        "-> 이런 경우 구문 오류를 해결하지 않으면 프로그램을 실행할 수 없음"
      ],
      "metadata": {
        "id": "IFXNnOmuBnIC"
      }
    },
    {
      "cell_type": "code",
      "source": [
        "SyntaxError : 구문에 문제가 발생해 프로그램이 실행조차 되지 않는 오류\n",
        "\n",
        "-> 이런 경우 구문 오류를 해결하지 않으면 프로그램을 실행할 수 없음"
      ],
      "metadata": {
        "id": "_4c2kgE1B2QY"
      },
      "execution_count": null,
      "outputs": []
    },
    {
      "cell_type": "markdown",
      "source": [
        "[예외]"
      ],
      "metadata": {
        "id": "xw1Xnc1-CBWS"
      }
    },
    {
      "cell_type": "code",
      "source": [
        "# 정상 실행\n",
        "print(\"오류는 아주 사소한 것부터 발생합니다.\")\n",
        "\n",
        "# 강아지 리스트 생성\n",
        "dogs = [\"푸들\", \"비숑\"]\n",
        "\n",
        "# 강아지 추가\n",
        "dogs.append(\"골든 리트리버\")\n",
        "\n",
        "# 리스트 출력\n",
        "print(dogs)\n"
      ],
      "metadata": {
        "colab": {
          "base_uri": "https://localhost:8080/"
        },
        "id": "RY2CzB1aCeB9",
        "outputId": "63db2150-9404-457f-adac-72eda580e3f1"
      },
      "execution_count": 3,
      "outputs": [
        {
          "output_type": "stream",
          "name": "stdout",
          "text": [
            "오류는 아주 사소한 것부터 발생합니다.\n",
            "['푸들', '비숑', '골든 리트리버']\n"
          ]
        }
      ]
    },
    {
      "cell_type": "markdown",
      "source": [
        "[기본 예외 처리]<br>\n",
        "예외를 해결하는 모든 것을 예외 처리라고 함\n",
        "\n",
        "예외 처리하는 2가지 방법\n",
        "- 조건문을 사용하는 방법\n",
        "- try 구문을 사용하는 방법\n",
        "\n",
        "단, 구문 오류가 발생하는 경우는 예외 처리로 불가하기 때문에 코드 자체를 수정하는 방법으로 해결해야함"
      ],
      "metadata": {
        "id": "xn7zTAuBCk8D"
      }
    },
    {
      "cell_type": "markdown",
      "source": [
        "[조건문을 이용한 예외 처리]\n",
        "\n",
        "- 조건문을 이용한 예외 처리방법을 기본 예외 처리라고 함\n",
        "\n",
        "예외가 발생할 수 있는 상황을 파악하는게 우선입니다.\n",
        "아래 코드를 통해서 발생할 수 있는 예외 상황을 알아보겠습니다."
      ],
      "metadata": {
        "id": "K8AQc5PtCmv9"
      }
    },
    {
      "cell_type": "code",
      "source": [
        "try:\n",
        "    # x=4, y=6\n",
        "\n",
        "    # 밑변과 높이 입력받기\n",
        "    x, y = map(float, input(\"삼각형의 밑변과 높이를 공백으로 구분하여 입력해주세요: \").split())\n",
        "\n",
        "    # 입력값 유효성 검사\n",
        "    if x <= 0 or y <= 0:\n",
        "        print(\"밑변과 높이는 양수여야 합니다.\")\n",
        "    else:\n",
        "        # 삼각형의 넓이 계산\n",
        "        area = x * y / 2\n",
        "        print(f\"삼각형의 넓이는 {area:.2f}입니다.\")\n",
        "except ValueError:\n",
        "    print(\"잘못된 입력입니다. 숫자 두 개를 공백으로 구분하여 입력해주세요.\")\n"
      ],
      "metadata": {
        "colab": {
          "base_uri": "https://localhost:8080/"
        },
        "id": "crrYP6UtDt_h",
        "outputId": "4bdeaca7-432a-4711-fa5e-5e3d5a725105"
      },
      "execution_count": 11,
      "outputs": [
        {
          "output_type": "stream",
          "name": "stdout",
          "text": [
            "삼각형의 밑변과 높이를 공백으로 구분하여 입력해주세요: 4 6\n",
            "삼각형의 넓이는 12.00입니다.\n"
          ]
        }
      ]
    },
    {
      "cell_type": "code",
      "source": [
        "# x=4cm, y=6cm\n",
        "x, y = map(int, input(\"밑변과 높이를 입력해주세요\").split(\" \"))\n",
        "\n",
        "# 계산결과 출력\n",
        "print(f'삼각형의 넓이는 {x*y/2}입니다.')"
      ],
      "metadata": {
        "colab": {
          "base_uri": "https://localhost:8080/",
          "height": 224
        },
        "id": "mXRFNLyfEdkH",
        "outputId": "3b8a1c43-d6c3-4121-ec16-76634e48cc31"
      },
      "execution_count": 16,
      "outputs": [
        {
          "name": "stdout",
          "output_type": "stream",
          "text": [
            "밑변과 높이를 입력해주세요\n"
          ]
        },
        {
          "output_type": "error",
          "ename": "ValueError",
          "evalue": "invalid literal for int() with base 10: ''",
          "traceback": [
            "\u001b[0;31m---------------------------------------------------------------------------\u001b[0m",
            "\u001b[0;31mValueError\u001b[0m                                Traceback (most recent call last)",
            "\u001b[0;32m<ipython-input-16-ddb9be66dbac>\u001b[0m in \u001b[0;36m<cell line: 2>\u001b[0;34m()\u001b[0m\n\u001b[1;32m      1\u001b[0m \u001b[0;31m# x=4cm, y=6cm\u001b[0m\u001b[0;34m\u001b[0m\u001b[0;34m\u001b[0m\u001b[0m\n\u001b[0;32m----> 2\u001b[0;31m \u001b[0mx\u001b[0m\u001b[0;34m,\u001b[0m \u001b[0my\u001b[0m \u001b[0;34m=\u001b[0m \u001b[0mmap\u001b[0m\u001b[0;34m(\u001b[0m\u001b[0mint\u001b[0m\u001b[0;34m,\u001b[0m \u001b[0minput\u001b[0m\u001b[0;34m(\u001b[0m\u001b[0;34m\"밑변과 높이를 입력해주세요\"\u001b[0m\u001b[0;34m)\u001b[0m\u001b[0;34m.\u001b[0m\u001b[0msplit\u001b[0m\u001b[0;34m(\u001b[0m\u001b[0;34m\" \"\u001b[0m\u001b[0;34m)\u001b[0m\u001b[0;34m)\u001b[0m\u001b[0;34m\u001b[0m\u001b[0;34m\u001b[0m\u001b[0m\n\u001b[0m\u001b[1;32m      3\u001b[0m \u001b[0;34m\u001b[0m\u001b[0m\n\u001b[1;32m      4\u001b[0m \u001b[0;31m# 계산결과 출력\u001b[0m\u001b[0;34m\u001b[0m\u001b[0;34m\u001b[0m\u001b[0m\n\u001b[1;32m      5\u001b[0m \u001b[0mprint\u001b[0m\u001b[0;34m(\u001b[0m\u001b[0;34mf'삼각형의 넓이는 {x*y/2}입니다.'\u001b[0m\u001b[0;34m)\u001b[0m\u001b[0;34m\u001b[0m\u001b[0;34m\u001b[0m\u001b[0m\n",
            "\u001b[0;31mValueError\u001b[0m: invalid literal for int() with base 10: ''"
          ]
        }
      ]
    },
    {
      "cell_type": "markdown",
      "source": [
        "정수를 입력하지 않아 발생한 오류에 대해 조건으로 구분해서 다른 처리를 할 수 있도록 코드를 수정해보겠습니다.\n",
        "\n",
        "조건문에 사용할 함수는 isdigit()입니다.\n",
        "- isdigit() : 숫자로만 구성되어있는 글자인지를 판단하고 숫자로 변환이 가능한 글자라면 true를 반환합니다.\n",
        "\n",
        "예) num = \"3\"<br>\n",
        "isdigit(num) => true"
      ],
      "metadata": {
        "id": "FkD_zS9KFJQj"
      }
    },
    {
      "cell_type": "code",
      "source": [
        "# x=4cm, y=6cm\n",
        "x, y = input(\"밑변과 높이를 입력해주세요\").split(\" \")\n",
        "\n",
        "if x.isdigit() and y.isdigit():\n",
        "    # 계산결과 출력\n",
        "    x , y = int(x), int(y)\n",
        "    print(f'삼각형의 넓이는 {x*y/2}입니다.')\n",
        "else:\n",
        "    print(\"정수로 입력하지 않아 계산이 불가합니다.\")"
      ],
      "metadata": {
        "colab": {
          "base_uri": "https://localhost:8080/"
        },
        "id": "pMXXSwqFFM3i",
        "outputId": "770ef7b2-de1c-418a-9012-28a53719fe9d"
      },
      "execution_count": 17,
      "outputs": [
        {
          "output_type": "stream",
          "name": "stdout",
          "text": [
            "밑변과 높이를 입력해주세요4 6\n",
            "삼각형의 넓이는 12.0입니다.\n"
          ]
        }
      ]
    },
    {
      "cell_type": "markdown",
      "source": [
        "지금부터는 강의를 잠시 멈춰두고 아래 3가지 키워드에 대해서\n",
        "여러분들이 이해한 방식대로 정리하는 시간을 가져보시기 바랍니다.\n",
        "\n",
        "- 오류의 종류에 대해 설명해주세요\n",
        "- 오류 종류별로 해결할 수 있는 방벙에 대해 설명해주세요\n",
        "- isdigit() 함수에 대해 설명해주세요"
      ],
      "metadata": {
        "id": "3P3byZ1QFSR6"
      }
    },
    {
      "cell_type": "markdown",
      "source": [
        "\n",
        "프로그램에서 발생할 수 있는 오류는 크게 구문 오류(Syntax Error), 실행 오류(Runtime Error), **논리 오류(Logical Error)**로 나눌 수 있습니다.\n",
        "\n",
        "-구문 오류(Syntax Error): 프로그램 코드가 문법적으로 잘못된 경우 발생합니다. 예를 들어, 괄호를 닫지 않거나, 세미콜론을 빼먹었을 때 발생합니다.\n",
        "예: print(\"Hello world\" (닫는 괄호 )가 빠짐)\n",
        "\n",
        "-실행 오류(Runtime Error): 프로그램이 실행 중에 예기치 않은 문제가 발생했을 때 발생합니다. 예를 들어, 0으로 나누거나, 없는 파일을 열 때 오류가 발생할 수 있습니다.\n",
        "예: x = 5 / 0 (0으로 나누기)\n",
        "\n",
        "-논리 오류(Logical Error): 프로그램이 문법상 오류는 없지만, 의도한 대로 동작하지 않는 경우입니다. 예를 들어, 잘못된 계산식이나 조건문으로 잘못된 결과를 도출할 때 발생합니다."
      ],
      "metadata": {
        "id": "4wn-QkqeFpgI"
      }
    },
    {
      "cell_type": "markdown",
      "source": [
        "\n",
        "구문 오류(Syntax Error):\n",
        "코드를 작성할 때, 문법을 정확히 맞추어야 합니다.\n",
        "코드를 주의 깊게 살펴보거나 IDE(통합 개발 환경)를 사용해 문법 오류를 쉽게 찾고 수정할 수 있습니다.\n",
        "예를 들어, 괄호나 콤마가 누락되지 않도록 확인합니다.\n",
        "\n",
        "실행 오류(Runtime Error):\n",
        "프로그램의 실행 중 예외 상황을 미리 대비한 코드를 작성해야 합니다.\n",
        "예외 처리를 위해 try-except 문을 사용할 수 있습니다.\n",
        "예를 들어, ZeroDivisionError를 처리하려면 try-except 문을 사용하여 오류가 발생하지 않도록 합니다.\n",
        "\n",
        "논리 오류(Logical Error):\n",
        "코드가 의도한 대로 동작하는지 잘 검토해야 합니다.\n",
        "주석을 추가하여 코드의 의도를 명확히 하고, 디버깅을 통해 문제를 찾을 수 있습니다.\n",
        "테스트 케이스를 만들어 예상 출력과 실제 출력을 비교하는 방법도 유효합니다."
      ],
      "metadata": {
        "id": "E9nnX3ffFu-F"
      }
    },
    {
      "cell_type": "markdown",
      "source": [
        "isdigit() 함수는 문자열이 숫자로만 구성되어 있는지 확인하는 함수입니다. 숫자 이외의 문자가 포함되면 False를 반환하고, 모두 숫자라면 True를 반환합니다"
      ],
      "metadata": {
        "id": "AzQXD67vF5hk"
      }
    },
    {
      "cell_type": "code",
      "source": [
        "str.isdigit()\n"
      ],
      "metadata": {
        "id": "5TEtR6TnGDQn"
      },
      "execution_count": null,
      "outputs": []
    },
    {
      "cell_type": "code",
      "source": [
        "text = \"12345\"\n",
        "print(text.isdigit())  # True\n",
        "\n",
        "text = \"123a5\"\n",
        "print(text.isdigit())  # False\n"
      ],
      "metadata": {
        "colab": {
          "base_uri": "https://localhost:8080/"
        },
        "id": "6e9FvBV5GGIi",
        "outputId": "7e35e9a4-025b-47da-b285-9d727ca91141"
      },
      "execution_count": 19,
      "outputs": [
        {
          "output_type": "stream",
          "name": "stdout",
          "text": [
            "True\n",
            "False\n"
          ]
        }
      ]
    },
    {
      "cell_type": "markdown",
      "source": [
        "용도:\n",
        "사용자가 입력한 값이 숫자인지 확인하고자 할 때 유용합니다. 예를 들어, 사용자에게 숫자만 입력받고 싶을 때 isdigit()을 활용할 수 있습니다"
      ],
      "metadata": {
        "id": "_JPV2jU7GKCq"
      }
    }
  ]
}