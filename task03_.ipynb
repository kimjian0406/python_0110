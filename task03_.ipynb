{
  "nbformat": 4,
  "nbformat_minor": 0,
  "metadata": {
    "colab": {
      "provenance": [],
      "authorship_tag": "ABX9TyPadhLSYN+Fg/kQYDQQFD3q"
    },
    "kernelspec": {
      "name": "python3",
      "display_name": "Python 3"
    },
    "language_info": {
      "name": "python"
    }
  },
  "cells": [
    {
      "cell_type": "markdown",
      "source": [
        "[예외객체]\n",
        "- Exception을 사용하면 예외의 종류에 대해 알 수 있습니다."
      ],
      "metadata": {
        "id": "XS7NSPcjXkYm"
      }
    },
    {
      "cell_type": "code",
      "source": [
        "# x=4cm, y=6cm\n",
        "try:\n",
        "    x, y = map(int, input(\"밑변과 높이를 입력해주세요\").split(\" \"))\n",
        "\n",
        "    # 계산결과 출력\n",
        "    print(f'삼각형의 넓이는 {x*y/2}입니다.')\n",
        "except Exception as exception:\n",
        "    # 예외에 대한 정보 출력\n",
        "    print(\"type(exception):\", type(exception))\n",
        "    print(\"exception:\", exception)"
      ],
      "metadata": {
        "colab": {
          "base_uri": "https://localhost:8080/"
        },
        "id": "O9OlPu_FYJ7o",
        "outputId": "86a31b23-84f1-409d-f2fb-c55162ee8df7"
      },
      "execution_count": 2,
      "outputs": [
        {
          "output_type": "stream",
          "name": "stdout",
          "text": [
            "밑변과 높이를 입력해주세요\n",
            "type(exception): <class 'ValueError'>\n",
            "exception: invalid literal for int() with base 10: ''\n"
          ]
        }
      ]
    },
    {
      "cell_type": "markdown",
      "source": [
        "[예외 구분하기]\n",
        "\n",
        "여러 가지 에외가 발생하는 상황을 구분지어 대비하기 위함"
      ],
      "metadata": {
        "id": "9_tfarWhYRUw"
      }
    },
    {
      "cell_type": "code",
      "source": [
        "numbers = [20, 8, 4, 1, 9]\n",
        "\n",
        "try:\n",
        "    number_input = int(input(\"찾고싶은 값의 위치를 입력해주세요: \"))\n",
        "    print(f'{number_input}번째 요소 : {numbers[number_input]}')\n",
        "except Exception as exception:\n",
        "    print(\"type(exception):\", type(exception))\n",
        "    print(\"except:\", exception)\n"
      ],
      "metadata": {
        "colab": {
          "base_uri": "https://localhost:8080/"
        },
        "id": "VZKFdlFgYrog",
        "outputId": "db3183b5-7657-492e-f782-1745118484e7"
      },
      "execution_count": 4,
      "outputs": [
        {
          "output_type": "stream",
          "name": "stdout",
          "text": [
            "찾고싶은 값의 위치를 입력해주세요: 10\n",
            "type(exception): <class 'IndexError'>\n",
            "except: list index out of range\n"
          ]
        }
      ]
    },
    {
      "cell_type": "code",
      "source": [
        "numbers = [20, 8, 4, 1, 9]\n",
        "\n",
        "try:\n",
        "    number_input = int(input(\"찾고 싶은 값의 위치를 입력해주세요: \"))\n",
        "    print(f'{number_input}번째 요소 : {numbers[number_input]}')\n",
        "except IndexError:\n",
        "    print(\"인덱스 범위를 벗어난 접근입니다!\")\n",
        "except ValueError:\n",
        "    print(\"잘못된 입력입니다. 숫자를 입력해주세요.\")\n",
        "except Exception as e:\n",
        "    print(\"알 수 없는 에러가 발생했습니다:\", e)\n"
      ],
      "metadata": {
        "colab": {
          "base_uri": "https://localhost:8080/"
        },
        "id": "4ZzyXzEuZdC4",
        "outputId": "6c4edc64-ac54-462a-dd89-e2f5ce59dfad"
      },
      "execution_count": 11,
      "outputs": [
        {
          "output_type": "stream",
          "name": "stdout",
          "text": [
            "찾고 싶은 값의 위치를 입력해주세요: \n",
            "잘못된 입력입니다. 숫자를 입력해주세요.\n"
          ]
        }
      ]
    },
    {
      "cell_type": "code",
      "source": [
        "numbers = [20, 8, 4, 1, 9]\n",
        "\n",
        "try:\n",
        "    number_input = int(input(\"찾고싶은 값의 위치를 입력해주세요\"))\n",
        "    print(f'{number_input}번째 요소 : {numbers[number_input]}')\n",
        "except ValueError as exception:\n",
        "    print(\"정수로 입력해주세요\")\n",
        "    print(\"exception:\", exception)\n",
        "except IndexError as exception:\n",
        "    print(\"리스트의 범위를 벗어났습니다. 입력값을 다시 확인해주세요\")\n",
        "    print(\"exception:\", exception)\n"
      ],
      "metadata": {
        "colab": {
          "base_uri": "https://localhost:8080/"
        },
        "id": "hBQcq59bZyAC",
        "outputId": "b1919e59-36e2-46aa-fe30-460273c8d118"
      },
      "execution_count": 13,
      "outputs": [
        {
          "output_type": "stream",
          "name": "stdout",
          "text": [
            "찾고싶은 값의 위치를 입력해주세요10\n",
            "리스트의 범위를 벗어났습니다. 입력값을 다시 확인해주세요\n",
            "exception: list index out of range\n"
          ]
        }
      ]
    },
    {
      "cell_type": "code",
      "source": [
        "# 문제를 만듦 (오타나 잘못된 함수 호출)\n",
        "try:\n",
        "    number_input = int(input(\"찾고싶은 값의 위치를 입력해주세요\"))\n",
        "    print(f'{number_input}번째 요소 : {numbers[number_input]}')\n",
        "    문제를.만들어볼까()  # 정의되지 않은 함수 호출\n",
        "except ValueError as exception:\n",
        "    print(\"정수로 입력해주세요\")\n",
        "    print(\"exception:\", exception)\n",
        "except IndexError as exception:\n",
        "    print(\"리스트의 범위를 벗어났습니다. 입력값을 다시 확인해주세요\")\n",
        "    print(\"exception:\", exception)\n",
        "except Exception as exception:\n",
        "    print(\"대처 불가한 예외가 발생했습니다.\")\n",
        "    print(type(exception), exception)\n"
      ],
      "metadata": {
        "colab": {
          "base_uri": "https://localhost:8080/"
        },
        "id": "bWEbXKHQapvJ",
        "outputId": "c92062d2-15d5-4eda-9ae0-df709e46ad92"
      },
      "execution_count": 17,
      "outputs": [
        {
          "output_type": "stream",
          "name": "stdout",
          "text": [
            "찾고싶은 값의 위치를 입력해주세요2\n",
            "2번째 요소 : 4\n",
            "대처 불가한 예외가 발생했습니다.\n",
            "<class 'NameError'> name '문제를' is not defined\n"
          ]
        }
      ]
    },
    {
      "cell_type": "markdown",
      "source": [
        "지금부터는 강의를 잠시 멈춰두고 아래 키워드에 대해서\n",
        "여러분들이 이해한 방식대로 정리하는 시간을 가져보시기 바랍니다.\n",
        "\n",
        "- 예외 종류와 그에 대한 설명을 해주세요(구글링 필요)\n",
        "\n",
        "SyntaxError\n",
        "설명: 프로그램의 문법이 잘못되었을 때 발생합니다. 즉, 코드의 구문에 오류가 있을 때 발생합니다.\n",
        "예시: 괄호나 따옴표 등의 구문 오류\n",
        "\n",
        "IndentationError\n",
        "설명: 들여쓰기가 잘못된 경우 발생하는 예외입니다. 파이썬에서는 들여쓰기가 코드 블록을 구분하는 데 중요하므로, 들여쓰기가 잘못되면 오류가 발생합니다\n",
        "\n",
        "ValueError\n",
        "설명: 함수에 잘못된 값이 전달될 때 발생하는 예외입니다. 예를 들어, 정수로 변환할 수 없는 값을 int() 함수에 전달할 때 발생합니다.\n",
        "\n",
        "IndexError\n",
        "설명: 리스트나 튜플, 문자열 등의 시퀀스 자료형에서 존재하지 않는 인덱스를 참조할 때 발생합니다\n",
        "\n",
        "NameError\n",
        "설명: 존재하지 않는 변수나 함수 이름을 참조하려고 할 때 발생하는 예외입니다."
      ],
      "metadata": {
        "id": "POdNbNtnauLG"
      }
    }
  ]
}