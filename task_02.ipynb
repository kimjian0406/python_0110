{
  "nbformat": 4,
  "nbformat_minor": 0,
  "metadata": {
    "colab": {
      "provenance": [],
      "authorship_tag": "ABX9TyO/pDPwJgx50evo0IM76Bti"
    },
    "kernelspec": {
      "name": "python3",
      "display_name": "Python 3"
    },
    "language_info": {
      "name": "python"
    }
  },
  "cells": [
    {
      "cell_type": "markdown",
      "source": [
        "[try except 구문]\n",
        "\n",
        "- 모든 예외처리 사항을 조건문으로 처리하는건 굉장히 귀찮고 어려운 문제\n",
        "- try except 구문으로 예외처리 진행"
      ],
      "metadata": {
        "id": "INaRiJq7H2RJ"
      }
    },
    {
      "cell_type": "code",
      "source": [
        "try:\n",
        "    # 사용자 입력 받기\n",
        "    x, y = input(\"밑변과 높이를 입력해주세요 (단위는 cm)\").split()\n",
        "\n",
        "    # 입력값을 정수로 변환\n",
        "    x = int(x)\n",
        "    y = int(y)\n",
        "\n",
        "    # 계산결과 출력\n",
        "    print(f'삼각형의 넓이는 {x * y / 2}입니다.')\n",
        "\n",
        "except ValueError:\n",
        "    # ValueError는 입력값이 정수로 변환되지 않을 때 발생\n",
        "    print(\"정수로 입력하지 않아 계산이 불가합니다.\")\n"
      ],
      "metadata": {
        "id": "4X7CaQxNIP1A"
      },
      "execution_count": null,
      "outputs": []
    },
    {
      "cell_type": "code",
      "source": [
        " # 사용자 입력 받기\n",
        "    x, y = input(\"밑변과 높이를 입력해주세요 (단위는 cm)\").split()\n",
        "\n",
        "    # 'cm' 단위 제거 후 정수로 변환\n",
        "    x = int(x.replace('cm', ''))\n",
        "    y = int(y.replace('cm', ''))\n",
        "\n",
        "    # 계산결과 출력\n",
        "    print(f'삼각형의 넓이는 {x * y / 2}입니다.')\n",
        "\n",
        "except ValueError:\n",
        "    # ValueError는 정수 변환에 실패했을 때 발생\n",
        "    print(\"정수로 입력하지 않아 계산이 불가합니다.\")"
      ],
      "metadata": {
        "id": "XmqK7MsCIwlw"
      },
      "execution_count": null,
      "outputs": []
    },
    {
      "cell_type": "markdown",
      "source": [
        "try except 구문과 pass 키워드 조합 구조\n",
        "\n",
        "- 예외가 발생하더라도 지금 당장 처리하지 않아도 되는 부분이라면 pass 키워드를 사용할 수 있음\n",
        "\n",
        "```\n",
        "try:\n",
        "    예외가 발생할 가능성이 있는 코드\n",
        "except\n",
        "    pass\n",
        "```"
      ],
      "metadata": {
        "id": "sHfio-NLIzU-"
      }
    },
    {
      "cell_type": "code",
      "source": [
        "list_input = [\"2\", \"8\", \"4\", \"마피아\", \"5\"]\n",
        "\n",
        "list_number = []\n",
        "\n",
        "for item in list_input:\n",
        "    try:\n",
        "        int(item)\n",
        "        list_number.append(item)\n",
        "    except:\n",
        "        pass\n",
        "\n",
        "print(f'{list_input} 내부에 있는 숫자는')\n",
        "print(f'{list_number}입니다.')"
      ],
      "metadata": {
        "colab": {
          "base_uri": "https://localhost:8080/"
        },
        "id": "0oZKvqioI2IP",
        "outputId": "a5bc6481-0995-4f4d-cce3-d43bc685fc8c"
      },
      "execution_count": 2,
      "outputs": [
        {
          "output_type": "stream",
          "name": "stdout",
          "text": [
            "['2', '8', '4', '마피아', '5'] 내부에 있는 숫자는\n",
            "['2', '8', '4', '5']입니다.\n"
          ]
        }
      ]
    },
    {
      "cell_type": "markdown",
      "source": [
        "try except 구문과 else 키워드 조합 구조\n",
        "\n",
        "- else 구문을 붙여서 사용하면 '예외가 발행하지 않았을 때 실행할 코드를 지정할 수 있습니다.\n",
        "\n",
        "```\n",
        "try:\n",
        "    예외가 발생할 가능성이 있는 코드\n",
        "except:\n",
        "    예외가 발생했을 때 실행할 코드\n",
        "else:\n",
        "    예외가 발생하지 않았을 때 실행할 코드\n",
        "```"
      ],
      "metadata": {
        "id": "OBc6fnVuI9KH"
      }
    },
    {
      "cell_type": "code",
      "source": [
        "# x=4cm, y=6cm\n",
        "try:\n",
        "    x, y = map(int, input(\"밑변과 높이를 입력해주세요\").split(\" \"))\n",
        "\n",
        "except:\n",
        "    print(\"정수로 입력하지 않아 계산이 불가합니다.\")\n",
        "\n",
        "else:\n",
        "    # 계산결과 출력\n",
        "    print(f'삼각형의 넓이는 {x*y/2}입니다.')"
      ],
      "metadata": {
        "id": "1PalqJB-JBdo"
      },
      "execution_count": null,
      "outputs": []
    },
    {
      "cell_type": "markdown",
      "source": [
        "정수로 입력하지 않아 계산이 불가합니다"
      ],
      "metadata": {
        "id": "i-Xe4jKoJEys"
      }
    },
    {
      "cell_type": "markdown",
      "source": [
        "finally 구문\n",
        "\n",
        "- 예외 처리 구문에서 가장 마지막에 사용할 수 있는 구문\n",
        "- 예외가 발생하든 발생하지 않든 무조건 실행할 때 사용하는 코드\n",
        "\n",
        "```\n",
        "try:\n",
        "    예외가 발생할 가능성이 있는 코드\n",
        "except:\n",
        "    예외가 발생했을 때 실행할 코드\n",
        "else:\n",
        "    예외가 발생하지 않았을 때 실행할 코드\n",
        "finally:\n",
        "    무조건 실행할 코드\n",
        "```"
      ],
      "metadata": {
        "id": "VdB75BQzJPka"
      }
    },
    {
      "cell_type": "code",
      "source": [
        "try:\n",
        "    # 사용자로부터 입력받아 두 값을 정수로 변환\n",
        "    x, y = map(int, input(\"밑변과 높이를 입력해주세요\").split(\" \"))\n",
        "\n",
        "    # 계산결과 출력\n",
        "    print(f'삼각형의 넓이는 {x * y / 2}입니다.')\n",
        "except:\n",
        "    # 예외가 발생하면 이 블록이 실행됨\n",
        "    print(\"정수로 입력하지 않아 계산이 불가합니다.\")\n",
        "else:\n",
        "    # 예외가 발생하지 않으면 이 블록이 실행됨\n",
        "    print(\"계산이 정상적으로 되었습니다.\")\n",
        "finally:\n",
        "    # 예외 발생 여부와 관계없이 항상 실행됨\n",
        "    print(\"프로그램이 종료 되었습니다.\")\n"
      ],
      "metadata": {
        "colab": {
          "base_uri": "https://localhost:8080/"
        },
        "id": "xlA21BfyJfmu",
        "outputId": "f465cdb8-0337-443d-f7b7-6accea4cb068"
      },
      "execution_count": 3,
      "outputs": [
        {
          "output_type": "stream",
          "name": "stdout",
          "text": [
            "밑변과 높이를 입력해주세요4 6\n",
            "삼각형의 넓이는 12.0입니다.\n",
            "계산이 정상적으로 되었습니다.\n",
            "프로그램이 종료 되었습니다.\n"
          ]
        }
      ]
    },
    {
      "cell_type": "code",
      "source": [
        "try:\n",
        "    # 사용자로부터 입력받아 두 값을 정수로 변환\n",
        "    x, y = map(int, input(\"밑변과 높이를 입력해주세요\").split(\" \"))\n",
        "\n",
        "    # 계산결과 출력\n",
        "    print(f'삼각형의 넓이는 {x * y / 2}입니다.')\n",
        "except:\n",
        "    # 예외가 발생하면 이 블록이 실행됨\n",
        "    print(\"정수로 입력하지 않아 계산이 불가합니다.\")\n",
        "else:\n",
        "    # 예외가 발생하지 않으면 이 블록이 실행됨\n",
        "    print(\"계산이 정상적으로 되었습니다.\")\n",
        "finally:\n",
        "    # 예외 발생 여부와 관계없이 항상 실행됨\n",
        "    print(\"프로그램이 종료 되었습니다.\")\n"
      ],
      "metadata": {
        "colab": {
          "base_uri": "https://localhost:8080/"
        },
        "id": "18cQ_-YtJjo_",
        "outputId": "71eac0e3-a418-4ede-f08c-7f36a47c94fd"
      },
      "execution_count": 4,
      "outputs": [
        {
          "output_type": "stream",
          "name": "stdout",
          "text": [
            "밑변과 높이를 입력해주세요\n",
            "정수로 입력하지 않아 계산이 불가합니다.\n",
            "프로그램이 종료 되었습니다.\n"
          ]
        }
      ]
    },
    {
      "cell_type": "markdown",
      "source": [
        "참고로 return 구문으로 함수를 빠져나와도 finally 구문이 있다면 finally 구문이 실행됩니다.<br>\n",
        "또한, 반복문의 break문을 만나 빠져나와도 finally 구문이 있다면 finally 구문이 실행됩니다.\n",
        "\n",
        "try, except, finally 구문의 조합 규칙\n",
        "\n",
        "- try ~ except\n",
        "- try ~ except ~ else\n",
        "- try ~ except ~ finally\n",
        "- try ~ except ~ else ~ finally\n",
        "- try ~ finally\n",
        "\n",
        "이 외 조합으로 구성할 경우 오류 발생\n",
        "\n",
        "지금부터는 강의를 잠시 멈춰두고 아래 2가지 키워드에 대해서\n",
        "여러분들이 이해한 방식대로 정리하는 시간을 가져보시기 바랍니다.\n",
        "\n",
        "- try ~ except 구문 사용 이유와 방법을 설명해주세요\n",
        "- finally 구문의 기능과 특징을 설명해주세요"
      ],
      "metadata": {
        "id": "XQAEX_tSJruR"
      }
    },
    {
      "cell_type": "markdown",
      "source": [
        "사용 이유:\n",
        "\n",
        "try ~ except 구문은 예외 처리를 위해 사용됩니다. 프로그램에서 예상치 못한 오류가 발생할 수 있는 부분을 try 블록으로 감싸고, 예외가 발생했을 때 프로그램이 멈추지 않도록 처리하는 방식입니다. 이를 통해 프로그램의 안정성을 높이고, 오류가 발생하더라도 사용자에게 적절한 메시지를 출력하거나 다른 처리를 할 수 있습니다."
      ],
      "metadata": {
        "id": "JxvuzBiBV1rv"
      }
    },
    {
      "cell_type": "code",
      "source": [
        "try:\n",
        "    # 예외가 발생할 수 있는 코드\n",
        "    x = int(input(\"숫자를 입력하세요: \"))\n",
        "    y = 10 / x\n",
        "except ZeroDivisionError:\n",
        "    # ZeroDivisionError가 발생할 때 실행되는 코드\n",
        "    print(\"0으로 나눌 수 없습니다.\")\n",
        "except ValueError:\n",
        "    # ValueError가 발생할 때 실행되는 코드\n",
        "    print(\"숫자가 아닌 값을 입력했습니다.\")\n"
      ],
      "metadata": {
        "colab": {
          "base_uri": "https://localhost:8080/"
        },
        "id": "nEDfTR1tV37K",
        "outputId": "c2921c6c-e233-46f0-d0e4-dad9663c8a19"
      },
      "execution_count": 5,
      "outputs": [
        {
          "name": "stdout",
          "output_type": "stream",
          "text": [
            "숫자를 입력하세요: 7\n"
          ]
        }
      ]
    },
    {
      "cell_type": "markdown",
      "source": [
        "finally 구문의 기능과 특징\n",
        "\n",
        "finally 구문은 예외가 발생하든 발생하지 않든 항상 실행되는 코드를 작성할 때 사용됩니다. 이 구문은 프로그램 흐름에 관계없이 실행되어 자원 해제, 파일 닫기, 연결 종료와 같은 정리 작업을 할 때 유용합니다.\n",
        "\n",
        "특징:\n",
        "finally는 예외가 발생하든 안 하든 실행됩니다. 따라서 예외 발생 여부와 관계없이 반드시 실행해야 할 코드(예: 파일 닫기, 데이터베이스 연결 종료 등)에 사용됩니다.\n",
        "finally 구문은 선택 사항이지만, 자원을 안전하게 관리하는 데 매우 유용합니다.\n",
        "예외가 발생하더라도 finally 블록은 반드시 실행되므로, 예외가 발생했더라도 자원을 정리하거나 로그를 기록하는 등의 작업을 처리할 수 있습니다."
      ],
      "metadata": {
        "id": "sJK_PNiPWAMA"
      }
    },
    {
      "cell_type": "code",
      "source": [
        "try:\n",
        "    # 예외가 발생할 수 있는 코드\n",
        "    file = open(\"data.txt\", \"r\")\n",
        "    content = file.read()\n",
        "except FileNotFoundError:\n",
        "    # 예외 처리: 파일이 없을 경우\n",
        "    print(\"파일을 찾을 수 없습니다.\")\n",
        "finally:\n",
        "    # 파일을 닫는 코드 (예외와 관계없이 실행)\n",
        "    file.close()\n",
        "    print(\"파일이 닫혔습니다.\")\n"
      ],
      "metadata": {
        "colab": {
          "base_uri": "https://localhost:8080/",
          "height": 207
        },
        "id": "217NhiolWHNx",
        "outputId": "8398d058-740b-4a3a-f9c0-529a7ae906b0"
      },
      "execution_count": 6,
      "outputs": [
        {
          "output_type": "stream",
          "name": "stdout",
          "text": [
            "파일을 찾을 수 없습니다.\n"
          ]
        },
        {
          "output_type": "error",
          "ename": "NameError",
          "evalue": "name 'file' is not defined",
          "traceback": [
            "\u001b[0;31m---------------------------------------------------------------------------\u001b[0m",
            "\u001b[0;31mNameError\u001b[0m                                 Traceback (most recent call last)",
            "\u001b[0;32m<ipython-input-6-ab1f8b02a384>\u001b[0m in \u001b[0;36m<cell line: 1>\u001b[0;34m()\u001b[0m\n\u001b[1;32m      8\u001b[0m \u001b[0;32mfinally\u001b[0m\u001b[0;34m:\u001b[0m\u001b[0;34m\u001b[0m\u001b[0;34m\u001b[0m\u001b[0m\n\u001b[1;32m      9\u001b[0m     \u001b[0;31m# 파일을 닫는 코드 (예외와 관계없이 실행)\u001b[0m\u001b[0;34m\u001b[0m\u001b[0;34m\u001b[0m\u001b[0m\n\u001b[0;32m---> 10\u001b[0;31m     \u001b[0mfile\u001b[0m\u001b[0;34m.\u001b[0m\u001b[0mclose\u001b[0m\u001b[0;34m(\u001b[0m\u001b[0;34m)\u001b[0m\u001b[0;34m\u001b[0m\u001b[0;34m\u001b[0m\u001b[0m\n\u001b[0m\u001b[1;32m     11\u001b[0m     \u001b[0mprint\u001b[0m\u001b[0;34m(\u001b[0m\u001b[0;34m\"파일이 닫혔습니다.\"\u001b[0m\u001b[0;34m)\u001b[0m\u001b[0;34m\u001b[0m\u001b[0;34m\u001b[0m\u001b[0m\n",
            "\u001b[0;31mNameError\u001b[0m: name 'file' is not defined"
          ]
        }
      ]
    }
  ]
}