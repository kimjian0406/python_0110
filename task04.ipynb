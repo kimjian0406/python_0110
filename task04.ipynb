{
  "nbformat": 4,
  "nbformat_minor": 0,
  "metadata": {
    "colab": {
      "provenance": [],
      "authorship_tag": "ABX9TyONUz5rLVWicR3uEXMVuWV/"
    },
    "kernelspec": {
      "name": "python3",
      "display_name": "Python 3"
    },
    "language_info": {
      "name": "python"
    }
  },
  "cells": [
    {
      "cell_type": "markdown",
      "source": [
        "raise 구문\n",
        "\n",
        "- 예외를 강제로 발생시키는 기능, 우리가 의도하지 않게 작동하는 상황을 방지하기 위해 사용\n",
        "\n",
        "사용 방법 : raise 뒤에 예외 이름을 입력\n",
        "\n",
        "```\n",
        "raise 예외 객체\n",
        "```"
      ],
      "metadata": {
        "id": "cbt_CGH4cD8I"
      }
    },
    {
      "cell_type": "code",
      "source": [
        "try:\n",
        "    number = input(\"숫자를 입력해주세요: \")\n",
        "    number = int(number)  # 입력된 값을 정수로 변환\n",
        "\n",
        "    # 조건문 사용\n",
        "    if number > 0:\n",
        "        # 양수일 때\n",
        "        raise NotImplementedError(\"양수에 대한 처리 로직이 아직 구현되지 않았습니다.\")\n",
        "    else:\n",
        "        # 음수일 때\n",
        "        raise NotImplementedError(\"음수에 대한 처리 로직이 아직 구현되지 않았습니다.\")\n",
        "\n",
        "except ValueError as e:\n",
        "    # ValueError 발생 시\n",
        "    print(f\"입력 오류: {e}\")\n",
        "except NotImplementedError as e:\n",
        "    # NotImplementedError 발생 시\n",
        "    print(f\"처리되지 않은 예외가 발생했습니다: {e}\")\n"
      ],
      "metadata": {
        "colab": {
          "base_uri": "https://localhost:8080/"
        },
        "id": "47xyOQN8cEcn",
        "outputId": "e3cc8584-296c-479d-981a-faae09908961"
      },
      "execution_count": 1,
      "outputs": [
        {
          "output_type": "stream",
          "name": "stdout",
          "text": [
            "숫자를 입력해주세요: \n",
            "입력 오류: invalid literal for int() with base 10: ''\n"
          ]
        }
      ]
    }
  ]
}